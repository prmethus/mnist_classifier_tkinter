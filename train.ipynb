{
 "cells": [
  {
   "cell_type": "code",
   "execution_count": 1,
   "id": "e94293b2-6e6a-435f-9522-f8da69dfd845",
   "metadata": {},
   "outputs": [],
   "source": [
    "import os\n",
    "os.environ['TF_CPP_MIN_LOG_LEVEL'] = '2'\n",
    "import tensorflow as tf"
   ]
  },
  {
   "cell_type": "code",
   "execution_count": 2,
   "id": "5d8d12f8-da81-4b1c-8f45-634a17fa3cfc",
   "metadata": {},
   "outputs": [],
   "source": [
    "def load_and_preprocess():\n",
    "    (X_train, Y_train), (X_test, Y_test) = tf.keras.datasets.mnist.load_data()\n",
    "    X_train = X_train.reshape(-1, 28, 28, 1).astype(\"float32\") / 255.0\n",
    "    X_test = X_test.reshape(-1, 28, 28, 1).astype(\"float32\") / 255.0\n",
    "    Y_train = tf.one_hot(Y_train, depth=10)\n",
    "    Y_test = tf.one_hot(Y_test, depth=10)\n",
    "    X_train = tf.concat([X_train, X_test], axis=0)\n",
    "    Y_train = tf.concat([Y_train, Y_test], axis=0)\n",
    "    return X_train, Y_train"
   ]
  },
  {
   "cell_type": "code",
   "execution_count": 3,
   "id": "73375002-6b50-4fc7-a2e8-d6d8af9b25a2",
   "metadata": {},
   "outputs": [],
   "source": [
    "X_train, Y_train = load_and_preprocess()"
   ]
  },
  {
   "cell_type": "code",
   "execution_count": 4,
   "id": "59973b58-443f-41ab-9381-6d92b1062195",
   "metadata": {},
   "outputs": [],
   "source": [
    "def create_and_compile_model():\n",
    "    \n",
    "    inputs = tf.keras.layers.Input(shape=(28,28,1))\n",
    "    x = tf.keras.layers.Conv2D(64, kernel_size=(3,3))(inputs)\n",
    "    x = tf.keras.layers.BatchNormalization()(x)\n",
    "    x = tf.keras.activations.relu(x)\n",
    "    x = tf.keras.layers.Conv2D(128, kernel_size=(3,3))(x)\n",
    "    x = tf.keras.layers.BatchNormalization()(x)\n",
    "    x = tf.keras.activations.relu(x)\n",
    "    x = tf.keras.layers.Flatten()(inputs)\n",
    "    x = tf.keras.layers.Dense(256)(x)\n",
    "    x = tf.keras.layers.BatchNormalization()(x)\n",
    "    x = tf.keras.activations.relu(x)\n",
    "    x = tf.keras.layers.Dropout(0.5)(x)\n",
    "    x = tf.keras.layers.Dense(128)(x)\n",
    "    x = tf.keras.layers.BatchNormalization()(x)\n",
    "    x = tf.keras.activations.relu(x)\n",
    "    x = tf.keras.layers.Dropout(0.5)(x)\n",
    "    x = tf.keras.layers.Dense(10)(x)\n",
    "    x = tf.keras.activations.softmax(x)\n",
    "    \n",
    "    model = tf.keras.models.Model(inputs=inputs, outputs=x)\n",
    "    \n",
    "    model.compile(\n",
    "        loss = tf.keras.losses.CategoricalCrossentropy(from_logits=False),\n",
    "        optimizer = tf.keras.optimizers.Adam(learning_rate=0.001),\n",
    "        metrics = [tf.keras.metrics.CategoricalAccuracy()])\n",
    "    \n",
    "    return model"
   ]
  },
  {
   "cell_type": "code",
   "execution_count": 5,
   "id": "1a096dc3-3c99-4e6a-9027-f55a7c9faf7f",
   "metadata": {},
   "outputs": [],
   "source": [
    "model = create_and_compile_model()"
   ]
  },
  {
   "cell_type": "code",
   "execution_count": 11,
   "id": "4b108d40-e207-4c57-a53d-c8b63fa2798d",
   "metadata": {},
   "outputs": [
    {
     "name": "stdout",
     "output_type": "stream",
     "text": [
      "Epoch 1/50\n",
      "1094/1094 [==============================] - 7s 6ms/step - loss: 0.0578 - categorical_accuracy: 0.9821\n",
      "Epoch 2/50\n",
      "1094/1094 [==============================] - 11s 10ms/step - loss: 0.0582 - categorical_accuracy: 0.9813\n",
      "Epoch 3/50\n",
      "1094/1094 [==============================] - 12s 11ms/step - loss: 0.0586 - categorical_accuracy: 0.9813\n",
      "Epoch 4/50\n",
      "1094/1094 [==============================] - 10s 9ms/step - loss: 0.0598 - categorical_accuracy: 0.9813\n",
      "Epoch 5/50\n",
      "1094/1094 [==============================] - 15s 14ms/step - loss: 0.0603 - categorical_accuracy: 0.9814\n",
      "Epoch 6/50\n",
      "1094/1094 [==============================] - 15s 14ms/step - loss: 0.0608 - categorical_accuracy: 0.9812\n"
     ]
    },
    {
     "data": {
      "text/plain": [
       "<keras.callbacks.History at 0x7f3aecece430>"
      ]
     },
     "execution_count": 11,
     "metadata": {},
     "output_type": "execute_result"
    }
   ],
   "source": [
    "callbacks = [tf.keras.callbacks.EarlyStopping(monitor='loss', \n",
    "                                              min_delta=0.0001, patience=5, restore_best_weights=True)]\n",
    "\n",
    "model.fit(X_train, Y_train, epochs=50, batch_size=64, callbacks=callbacks)"
   ]
  },
  {
   "cell_type": "code",
   "execution_count": 14,
   "id": "ec7c555d-a09c-41d4-8f3d-c22225070f2e",
   "metadata": {},
   "outputs": [
    {
     "name": "stdout",
     "output_type": "stream",
     "text": [
      "Model: \"model\"\n",
      "_________________________________________________________________\n",
      " Layer (type)                Output Shape              Param #   \n",
      "=================================================================\n",
      " input_1 (InputLayer)        [(None, 28, 28, 1)]       0         \n",
      "                                                                 \n",
      " flatten (Flatten)           (None, 784)               0         \n",
      "                                                                 \n",
      " dense (Dense)               (None, 256)               200960    \n",
      "                                                                 \n",
      " batch_normalization_2 (Batc  (None, 256)              1024      \n",
      " hNormalization)                                                 \n",
      "                                                                 \n",
      " tf.nn.relu_2 (TFOpLambda)   (None, 256)               0         \n",
      "                                                                 \n",
      " dropout (Dropout)           (None, 256)               0         \n",
      "                                                                 \n",
      " dense_1 (Dense)             (None, 128)               32896     \n",
      "                                                                 \n",
      " batch_normalization_3 (Batc  (None, 128)              512       \n",
      " hNormalization)                                                 \n",
      "                                                                 \n",
      " tf.nn.relu_3 (TFOpLambda)   (None, 128)               0         \n",
      "                                                                 \n",
      " dropout_1 (Dropout)         (None, 128)               0         \n",
      "                                                                 \n",
      " dense_2 (Dense)             (None, 10)                1290      \n",
      "                                                                 \n",
      " tf.nn.softmax (TFOpLambda)  (None, 10)                0         \n",
      "                                                                 \n",
      "=================================================================\n",
      "Total params: 236,682\n",
      "Trainable params: 235,914\n",
      "Non-trainable params: 768\n",
      "_________________________________________________________________\n"
     ]
    }
   ],
   "source": [
    "model.summary()"
   ]
  },
  {
   "cell_type": "code",
   "execution_count": 13,
   "id": "962e9afe-7b1b-45d6-8b57-f4b37ce236c8",
   "metadata": {},
   "outputs": [],
   "source": [
    "model.save(\"DigiPredictor_final.h5\")"
   ]
  }
 ],
 "metadata": {
  "interpreter": {
   "hash": "746573d19abccaab515ac904fb058b1c2f06fcec7a06acf4c4e394ba12619812"
  },
  "kernelspec": {
   "display_name": "MLpy",
   "language": "python",
   "name": "mlpy"
  },
  "language_info": {
   "codemirror_mode": {
    "name": "ipython",
    "version": 3
   },
   "file_extension": ".py",
   "mimetype": "text/x-python",
   "name": "python",
   "nbconvert_exporter": "python",
   "pygments_lexer": "ipython3",
   "version": "3.9.7"
  }
 },
 "nbformat": 4,
 "nbformat_minor": 5
}
